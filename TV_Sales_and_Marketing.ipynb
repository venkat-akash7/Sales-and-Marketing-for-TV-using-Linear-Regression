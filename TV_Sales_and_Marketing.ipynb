{
  "nbformat": 4,
  "nbformat_minor": 0,
  "metadata": {
    "colab": {
      "provenance": []
    },
    "kernelspec": {
      "name": "python3",
      "display_name": "Python 3"
    },
    "language_info": {
      "name": "python"
    }
  },
  "cells": [
    {
      "cell_type": "code",
      "execution_count": null,
      "metadata": {
        "id": "dAuWwZTlrSf6"
      },
      "outputs": [],
      "source": [
        "import numpy as np\n",
        "import pandas as pd\n",
        "import matplotlib.pyplot as plt\n",
        "import seaborn as sns"
      ]
    },
    {
      "cell_type": "code",
      "source": [
        "Mark=pd.read_csv(\"/content/tvmarketing.csv\")\n",
        "Mark.head()"
      ],
      "metadata": {
        "colab": {
          "base_uri": "https://localhost:8080/",
          "height": 204
        },
        "id": "6565CUSdr97_",
        "outputId": "0a276efb-62e3-4ecf-97e7-e568cc6aec21"
      },
      "execution_count": null,
      "outputs": [
        {
          "output_type": "execute_result",
          "data": {
            "text/plain": [
              "      TV  Sales\n",
              "0  230.1   22.1\n",
              "1   44.5   10.4\n",
              "2   17.2    9.3\n",
              "3  151.5   18.5\n",
              "4  180.8   12.9"
            ],
            "text/html": [
              "\n",
              "  <div id=\"df-c5727394-30f5-4705-8fa7-8307744f44cf\" class=\"colab-df-container\">\n",
              "    <div>\n",
              "<style scoped>\n",
              "    .dataframe tbody tr th:only-of-type {\n",
              "        vertical-align: middle;\n",
              "    }\n",
              "\n",
              "    .dataframe tbody tr th {\n",
              "        vertical-align: top;\n",
              "    }\n",
              "\n",
              "    .dataframe thead th {\n",
              "        text-align: right;\n",
              "    }\n",
              "</style>\n",
              "<table border=\"1\" class=\"dataframe\">\n",
              "  <thead>\n",
              "    <tr style=\"text-align: right;\">\n",
              "      <th></th>\n",
              "      <th>TV</th>\n",
              "      <th>Sales</th>\n",
              "    </tr>\n",
              "  </thead>\n",
              "  <tbody>\n",
              "    <tr>\n",
              "      <th>0</th>\n",
              "      <td>230.1</td>\n",
              "      <td>22.1</td>\n",
              "    </tr>\n",
              "    <tr>\n",
              "      <th>1</th>\n",
              "      <td>44.5</td>\n",
              "      <td>10.4</td>\n",
              "    </tr>\n",
              "    <tr>\n",
              "      <th>2</th>\n",
              "      <td>17.2</td>\n",
              "      <td>9.3</td>\n",
              "    </tr>\n",
              "    <tr>\n",
              "      <th>3</th>\n",
              "      <td>151.5</td>\n",
              "      <td>18.5</td>\n",
              "    </tr>\n",
              "    <tr>\n",
              "      <th>4</th>\n",
              "      <td>180.8</td>\n",
              "      <td>12.9</td>\n",
              "    </tr>\n",
              "  </tbody>\n",
              "</table>\n",
              "</div>\n",
              "    <div class=\"colab-df-buttons\">\n",
              "\n",
              "  <div class=\"colab-df-container\">\n",
              "    <button class=\"colab-df-convert\" onclick=\"convertToInteractive('df-c5727394-30f5-4705-8fa7-8307744f44cf')\"\n",
              "            title=\"Convert this dataframe to an interactive table.\"\n",
              "            style=\"display:none;\">\n",
              "\n",
              "  <svg xmlns=\"http://www.w3.org/2000/svg\" height=\"24px\" viewBox=\"0 -960 960 960\">\n",
              "    <path d=\"M120-120v-720h720v720H120Zm60-500h600v-160H180v160Zm220 220h160v-160H400v160Zm0 220h160v-160H400v160ZM180-400h160v-160H180v160Zm440 0h160v-160H620v160ZM180-180h160v-160H180v160Zm440 0h160v-160H620v160Z\"/>\n",
              "  </svg>\n",
              "    </button>\n",
              "\n",
              "  <style>\n",
              "    .colab-df-container {\n",
              "      display:flex;\n",
              "      gap: 12px;\n",
              "    }\n",
              "\n",
              "    .colab-df-convert {\n",
              "      background-color: #E8F0FE;\n",
              "      border: none;\n",
              "      border-radius: 50%;\n",
              "      cursor: pointer;\n",
              "      display: none;\n",
              "      fill: #1967D2;\n",
              "      height: 32px;\n",
              "      padding: 0 0 0 0;\n",
              "      width: 32px;\n",
              "    }\n",
              "\n",
              "    .colab-df-convert:hover {\n",
              "      background-color: #E2EBFA;\n",
              "      box-shadow: 0px 1px 2px rgba(60, 64, 67, 0.3), 0px 1px 3px 1px rgba(60, 64, 67, 0.15);\n",
              "      fill: #174EA6;\n",
              "    }\n",
              "\n",
              "    .colab-df-buttons div {\n",
              "      margin-bottom: 4px;\n",
              "    }\n",
              "\n",
              "    [theme=dark] .colab-df-convert {\n",
              "      background-color: #3B4455;\n",
              "      fill: #D2E3FC;\n",
              "    }\n",
              "\n",
              "    [theme=dark] .colab-df-convert:hover {\n",
              "      background-color: #434B5C;\n",
              "      box-shadow: 0px 1px 3px 1px rgba(0, 0, 0, 0.15);\n",
              "      filter: drop-shadow(0px 1px 2px rgba(0, 0, 0, 0.3));\n",
              "      fill: #FFFFFF;\n",
              "    }\n",
              "  </style>\n",
              "\n",
              "    <script>\n",
              "      const buttonEl =\n",
              "        document.querySelector('#df-c5727394-30f5-4705-8fa7-8307744f44cf button.colab-df-convert');\n",
              "      buttonEl.style.display =\n",
              "        google.colab.kernel.accessAllowed ? 'block' : 'none';\n",
              "\n",
              "      async function convertToInteractive(key) {\n",
              "        const element = document.querySelector('#df-c5727394-30f5-4705-8fa7-8307744f44cf');\n",
              "        const dataTable =\n",
              "          await google.colab.kernel.invokeFunction('convertToInteractive',\n",
              "                                                    [key], {});\n",
              "        if (!dataTable) return;\n",
              "\n",
              "        const docLinkHtml = 'Like what you see? Visit the ' +\n",
              "          '<a target=\"_blank\" href=https://colab.research.google.com/notebooks/data_table.ipynb>data table notebook</a>'\n",
              "          + ' to learn more about interactive tables.';\n",
              "        element.innerHTML = '';\n",
              "        dataTable['output_type'] = 'display_data';\n",
              "        await google.colab.output.renderOutput(dataTable, element);\n",
              "        const docLink = document.createElement('div');\n",
              "        docLink.innerHTML = docLinkHtml;\n",
              "        element.appendChild(docLink);\n",
              "      }\n",
              "    </script>\n",
              "  </div>\n",
              "\n",
              "\n",
              "<div id=\"df-3699513d-3a80-44f1-b274-017af9d33f49\">\n",
              "  <button class=\"colab-df-quickchart\" onclick=\"quickchart('df-3699513d-3a80-44f1-b274-017af9d33f49')\"\n",
              "            title=\"Suggest charts.\"\n",
              "            style=\"display:none;\">\n",
              "\n",
              "<svg xmlns=\"http://www.w3.org/2000/svg\" height=\"24px\"viewBox=\"0 0 24 24\"\n",
              "     width=\"24px\">\n",
              "    <g>\n",
              "        <path d=\"M19 3H5c-1.1 0-2 .9-2 2v14c0 1.1.9 2 2 2h14c1.1 0 2-.9 2-2V5c0-1.1-.9-2-2-2zM9 17H7v-7h2v7zm4 0h-2V7h2v10zm4 0h-2v-4h2v4z\"/>\n",
              "    </g>\n",
              "</svg>\n",
              "  </button>\n",
              "\n",
              "<style>\n",
              "  .colab-df-quickchart {\n",
              "      --bg-color: #E8F0FE;\n",
              "      --fill-color: #1967D2;\n",
              "      --hover-bg-color: #E2EBFA;\n",
              "      --hover-fill-color: #174EA6;\n",
              "      --disabled-fill-color: #AAA;\n",
              "      --disabled-bg-color: #DDD;\n",
              "  }\n",
              "\n",
              "  [theme=dark] .colab-df-quickchart {\n",
              "      --bg-color: #3B4455;\n",
              "      --fill-color: #D2E3FC;\n",
              "      --hover-bg-color: #434B5C;\n",
              "      --hover-fill-color: #FFFFFF;\n",
              "      --disabled-bg-color: #3B4455;\n",
              "      --disabled-fill-color: #666;\n",
              "  }\n",
              "\n",
              "  .colab-df-quickchart {\n",
              "    background-color: var(--bg-color);\n",
              "    border: none;\n",
              "    border-radius: 50%;\n",
              "    cursor: pointer;\n",
              "    display: none;\n",
              "    fill: var(--fill-color);\n",
              "    height: 32px;\n",
              "    padding: 0;\n",
              "    width: 32px;\n",
              "  }\n",
              "\n",
              "  .colab-df-quickchart:hover {\n",
              "    background-color: var(--hover-bg-color);\n",
              "    box-shadow: 0 1px 2px rgba(60, 64, 67, 0.3), 0 1px 3px 1px rgba(60, 64, 67, 0.15);\n",
              "    fill: var(--button-hover-fill-color);\n",
              "  }\n",
              "\n",
              "  .colab-df-quickchart-complete:disabled,\n",
              "  .colab-df-quickchart-complete:disabled:hover {\n",
              "    background-color: var(--disabled-bg-color);\n",
              "    fill: var(--disabled-fill-color);\n",
              "    box-shadow: none;\n",
              "  }\n",
              "\n",
              "  .colab-df-spinner {\n",
              "    border: 2px solid var(--fill-color);\n",
              "    border-color: transparent;\n",
              "    border-bottom-color: var(--fill-color);\n",
              "    animation:\n",
              "      spin 1s steps(1) infinite;\n",
              "  }\n",
              "\n",
              "  @keyframes spin {\n",
              "    0% {\n",
              "      border-color: transparent;\n",
              "      border-bottom-color: var(--fill-color);\n",
              "      border-left-color: var(--fill-color);\n",
              "    }\n",
              "    20% {\n",
              "      border-color: transparent;\n",
              "      border-left-color: var(--fill-color);\n",
              "      border-top-color: var(--fill-color);\n",
              "    }\n",
              "    30% {\n",
              "      border-color: transparent;\n",
              "      border-left-color: var(--fill-color);\n",
              "      border-top-color: var(--fill-color);\n",
              "      border-right-color: var(--fill-color);\n",
              "    }\n",
              "    40% {\n",
              "      border-color: transparent;\n",
              "      border-right-color: var(--fill-color);\n",
              "      border-top-color: var(--fill-color);\n",
              "    }\n",
              "    60% {\n",
              "      border-color: transparent;\n",
              "      border-right-color: var(--fill-color);\n",
              "    }\n",
              "    80% {\n",
              "      border-color: transparent;\n",
              "      border-right-color: var(--fill-color);\n",
              "      border-bottom-color: var(--fill-color);\n",
              "    }\n",
              "    90% {\n",
              "      border-color: transparent;\n",
              "      border-bottom-color: var(--fill-color);\n",
              "    }\n",
              "  }\n",
              "</style>\n",
              "\n",
              "  <script>\n",
              "    async function quickchart(key) {\n",
              "      const quickchartButtonEl =\n",
              "        document.querySelector('#' + key + ' button');\n",
              "      quickchartButtonEl.disabled = true;  // To prevent multiple clicks.\n",
              "      quickchartButtonEl.classList.add('colab-df-spinner');\n",
              "      try {\n",
              "        const charts = await google.colab.kernel.invokeFunction(\n",
              "            'suggestCharts', [key], {});\n",
              "      } catch (error) {\n",
              "        console.error('Error during call to suggestCharts:', error);\n",
              "      }\n",
              "      quickchartButtonEl.classList.remove('colab-df-spinner');\n",
              "      quickchartButtonEl.classList.add('colab-df-quickchart-complete');\n",
              "    }\n",
              "    (() => {\n",
              "      let quickchartButtonEl =\n",
              "        document.querySelector('#df-3699513d-3a80-44f1-b274-017af9d33f49 button');\n",
              "      quickchartButtonEl.style.display =\n",
              "        google.colab.kernel.accessAllowed ? 'block' : 'none';\n",
              "    })();\n",
              "  </script>\n",
              "</div>\n",
              "    </div>\n",
              "  </div>\n"
            ]
          },
          "metadata": {},
          "execution_count": 2
        }
      ]
    },
    {
      "cell_type": "code",
      "source": [
        "Mark.tail()"
      ],
      "metadata": {
        "colab": {
          "base_uri": "https://localhost:8080/",
          "height": 204
        },
        "id": "6xctHAmfsRbo",
        "outputId": "124e90eb-dffd-479b-f95a-3c5ae6ec73f3"
      },
      "execution_count": null,
      "outputs": [
        {
          "output_type": "execute_result",
          "data": {
            "text/plain": [
              "        TV  Sales\n",
              "195   38.2    7.6\n",
              "196   94.2    9.7\n",
              "197  177.0   12.8\n",
              "198  283.6   25.5\n",
              "199  232.1   13.4"
            ],
            "text/html": [
              "\n",
              "  <div id=\"df-1d0ae107-6e52-4875-80d9-591537ceafe5\" class=\"colab-df-container\">\n",
              "    <div>\n",
              "<style scoped>\n",
              "    .dataframe tbody tr th:only-of-type {\n",
              "        vertical-align: middle;\n",
              "    }\n",
              "\n",
              "    .dataframe tbody tr th {\n",
              "        vertical-align: top;\n",
              "    }\n",
              "\n",
              "    .dataframe thead th {\n",
              "        text-align: right;\n",
              "    }\n",
              "</style>\n",
              "<table border=\"1\" class=\"dataframe\">\n",
              "  <thead>\n",
              "    <tr style=\"text-align: right;\">\n",
              "      <th></th>\n",
              "      <th>TV</th>\n",
              "      <th>Sales</th>\n",
              "    </tr>\n",
              "  </thead>\n",
              "  <tbody>\n",
              "    <tr>\n",
              "      <th>195</th>\n",
              "      <td>38.2</td>\n",
              "      <td>7.6</td>\n",
              "    </tr>\n",
              "    <tr>\n",
              "      <th>196</th>\n",
              "      <td>94.2</td>\n",
              "      <td>9.7</td>\n",
              "    </tr>\n",
              "    <tr>\n",
              "      <th>197</th>\n",
              "      <td>177.0</td>\n",
              "      <td>12.8</td>\n",
              "    </tr>\n",
              "    <tr>\n",
              "      <th>198</th>\n",
              "      <td>283.6</td>\n",
              "      <td>25.5</td>\n",
              "    </tr>\n",
              "    <tr>\n",
              "      <th>199</th>\n",
              "      <td>232.1</td>\n",
              "      <td>13.4</td>\n",
              "    </tr>\n",
              "  </tbody>\n",
              "</table>\n",
              "</div>\n",
              "    <div class=\"colab-df-buttons\">\n",
              "\n",
              "  <div class=\"colab-df-container\">\n",
              "    <button class=\"colab-df-convert\" onclick=\"convertToInteractive('df-1d0ae107-6e52-4875-80d9-591537ceafe5')\"\n",
              "            title=\"Convert this dataframe to an interactive table.\"\n",
              "            style=\"display:none;\">\n",
              "\n",
              "  <svg xmlns=\"http://www.w3.org/2000/svg\" height=\"24px\" viewBox=\"0 -960 960 960\">\n",
              "    <path d=\"M120-120v-720h720v720H120Zm60-500h600v-160H180v160Zm220 220h160v-160H400v160Zm0 220h160v-160H400v160ZM180-400h160v-160H180v160Zm440 0h160v-160H620v160ZM180-180h160v-160H180v160Zm440 0h160v-160H620v160Z\"/>\n",
              "  </svg>\n",
              "    </button>\n",
              "\n",
              "  <style>\n",
              "    .colab-df-container {\n",
              "      display:flex;\n",
              "      gap: 12px;\n",
              "    }\n",
              "\n",
              "    .colab-df-convert {\n",
              "      background-color: #E8F0FE;\n",
              "      border: none;\n",
              "      border-radius: 50%;\n",
              "      cursor: pointer;\n",
              "      display: none;\n",
              "      fill: #1967D2;\n",
              "      height: 32px;\n",
              "      padding: 0 0 0 0;\n",
              "      width: 32px;\n",
              "    }\n",
              "\n",
              "    .colab-df-convert:hover {\n",
              "      background-color: #E2EBFA;\n",
              "      box-shadow: 0px 1px 2px rgba(60, 64, 67, 0.3), 0px 1px 3px 1px rgba(60, 64, 67, 0.15);\n",
              "      fill: #174EA6;\n",
              "    }\n",
              "\n",
              "    .colab-df-buttons div {\n",
              "      margin-bottom: 4px;\n",
              "    }\n",
              "\n",
              "    [theme=dark] .colab-df-convert {\n",
              "      background-color: #3B4455;\n",
              "      fill: #D2E3FC;\n",
              "    }\n",
              "\n",
              "    [theme=dark] .colab-df-convert:hover {\n",
              "      background-color: #434B5C;\n",
              "      box-shadow: 0px 1px 3px 1px rgba(0, 0, 0, 0.15);\n",
              "      filter: drop-shadow(0px 1px 2px rgba(0, 0, 0, 0.3));\n",
              "      fill: #FFFFFF;\n",
              "    }\n",
              "  </style>\n",
              "\n",
              "    <script>\n",
              "      const buttonEl =\n",
              "        document.querySelector('#df-1d0ae107-6e52-4875-80d9-591537ceafe5 button.colab-df-convert');\n",
              "      buttonEl.style.display =\n",
              "        google.colab.kernel.accessAllowed ? 'block' : 'none';\n",
              "\n",
              "      async function convertToInteractive(key) {\n",
              "        const element = document.querySelector('#df-1d0ae107-6e52-4875-80d9-591537ceafe5');\n",
              "        const dataTable =\n",
              "          await google.colab.kernel.invokeFunction('convertToInteractive',\n",
              "                                                    [key], {});\n",
              "        if (!dataTable) return;\n",
              "\n",
              "        const docLinkHtml = 'Like what you see? Visit the ' +\n",
              "          '<a target=\"_blank\" href=https://colab.research.google.com/notebooks/data_table.ipynb>data table notebook</a>'\n",
              "          + ' to learn more about interactive tables.';\n",
              "        element.innerHTML = '';\n",
              "        dataTable['output_type'] = 'display_data';\n",
              "        await google.colab.output.renderOutput(dataTable, element);\n",
              "        const docLink = document.createElement('div');\n",
              "        docLink.innerHTML = docLinkHtml;\n",
              "        element.appendChild(docLink);\n",
              "      }\n",
              "    </script>\n",
              "  </div>\n",
              "\n",
              "\n",
              "<div id=\"df-3750f1c7-4999-43db-b162-4440f48ef792\">\n",
              "  <button class=\"colab-df-quickchart\" onclick=\"quickchart('df-3750f1c7-4999-43db-b162-4440f48ef792')\"\n",
              "            title=\"Suggest charts.\"\n",
              "            style=\"display:none;\">\n",
              "\n",
              "<svg xmlns=\"http://www.w3.org/2000/svg\" height=\"24px\"viewBox=\"0 0 24 24\"\n",
              "     width=\"24px\">\n",
              "    <g>\n",
              "        <path d=\"M19 3H5c-1.1 0-2 .9-2 2v14c0 1.1.9 2 2 2h14c1.1 0 2-.9 2-2V5c0-1.1-.9-2-2-2zM9 17H7v-7h2v7zm4 0h-2V7h2v10zm4 0h-2v-4h2v4z\"/>\n",
              "    </g>\n",
              "</svg>\n",
              "  </button>\n",
              "\n",
              "<style>\n",
              "  .colab-df-quickchart {\n",
              "      --bg-color: #E8F0FE;\n",
              "      --fill-color: #1967D2;\n",
              "      --hover-bg-color: #E2EBFA;\n",
              "      --hover-fill-color: #174EA6;\n",
              "      --disabled-fill-color: #AAA;\n",
              "      --disabled-bg-color: #DDD;\n",
              "  }\n",
              "\n",
              "  [theme=dark] .colab-df-quickchart {\n",
              "      --bg-color: #3B4455;\n",
              "      --fill-color: #D2E3FC;\n",
              "      --hover-bg-color: #434B5C;\n",
              "      --hover-fill-color: #FFFFFF;\n",
              "      --disabled-bg-color: #3B4455;\n",
              "      --disabled-fill-color: #666;\n",
              "  }\n",
              "\n",
              "  .colab-df-quickchart {\n",
              "    background-color: var(--bg-color);\n",
              "    border: none;\n",
              "    border-radius: 50%;\n",
              "    cursor: pointer;\n",
              "    display: none;\n",
              "    fill: var(--fill-color);\n",
              "    height: 32px;\n",
              "    padding: 0;\n",
              "    width: 32px;\n",
              "  }\n",
              "\n",
              "  .colab-df-quickchart:hover {\n",
              "    background-color: var(--hover-bg-color);\n",
              "    box-shadow: 0 1px 2px rgba(60, 64, 67, 0.3), 0 1px 3px 1px rgba(60, 64, 67, 0.15);\n",
              "    fill: var(--button-hover-fill-color);\n",
              "  }\n",
              "\n",
              "  .colab-df-quickchart-complete:disabled,\n",
              "  .colab-df-quickchart-complete:disabled:hover {\n",
              "    background-color: var(--disabled-bg-color);\n",
              "    fill: var(--disabled-fill-color);\n",
              "    box-shadow: none;\n",
              "  }\n",
              "\n",
              "  .colab-df-spinner {\n",
              "    border: 2px solid var(--fill-color);\n",
              "    border-color: transparent;\n",
              "    border-bottom-color: var(--fill-color);\n",
              "    animation:\n",
              "      spin 1s steps(1) infinite;\n",
              "  }\n",
              "\n",
              "  @keyframes spin {\n",
              "    0% {\n",
              "      border-color: transparent;\n",
              "      border-bottom-color: var(--fill-color);\n",
              "      border-left-color: var(--fill-color);\n",
              "    }\n",
              "    20% {\n",
              "      border-color: transparent;\n",
              "      border-left-color: var(--fill-color);\n",
              "      border-top-color: var(--fill-color);\n",
              "    }\n",
              "    30% {\n",
              "      border-color: transparent;\n",
              "      border-left-color: var(--fill-color);\n",
              "      border-top-color: var(--fill-color);\n",
              "      border-right-color: var(--fill-color);\n",
              "    }\n",
              "    40% {\n",
              "      border-color: transparent;\n",
              "      border-right-color: var(--fill-color);\n",
              "      border-top-color: var(--fill-color);\n",
              "    }\n",
              "    60% {\n",
              "      border-color: transparent;\n",
              "      border-right-color: var(--fill-color);\n",
              "    }\n",
              "    80% {\n",
              "      border-color: transparent;\n",
              "      border-right-color: var(--fill-color);\n",
              "      border-bottom-color: var(--fill-color);\n",
              "    }\n",
              "    90% {\n",
              "      border-color: transparent;\n",
              "      border-bottom-color: var(--fill-color);\n",
              "    }\n",
              "  }\n",
              "</style>\n",
              "\n",
              "  <script>\n",
              "    async function quickchart(key) {\n",
              "      const quickchartButtonEl =\n",
              "        document.querySelector('#' + key + ' button');\n",
              "      quickchartButtonEl.disabled = true;  // To prevent multiple clicks.\n",
              "      quickchartButtonEl.classList.add('colab-df-spinner');\n",
              "      try {\n",
              "        const charts = await google.colab.kernel.invokeFunction(\n",
              "            'suggestCharts', [key], {});\n",
              "      } catch (error) {\n",
              "        console.error('Error during call to suggestCharts:', error);\n",
              "      }\n",
              "      quickchartButtonEl.classList.remove('colab-df-spinner');\n",
              "      quickchartButtonEl.classList.add('colab-df-quickchart-complete');\n",
              "    }\n",
              "    (() => {\n",
              "      let quickchartButtonEl =\n",
              "        document.querySelector('#df-3750f1c7-4999-43db-b162-4440f48ef792 button');\n",
              "      quickchartButtonEl.style.display =\n",
              "        google.colab.kernel.accessAllowed ? 'block' : 'none';\n",
              "    })();\n",
              "  </script>\n",
              "</div>\n",
              "    </div>\n",
              "  </div>\n"
            ]
          },
          "metadata": {},
          "execution_count": 3
        }
      ]
    },
    {
      "cell_type": "code",
      "source": [
        "Mark.info()"
      ],
      "metadata": {
        "colab": {
          "base_uri": "https://localhost:8080/"
        },
        "id": "2v0GfvjqsT2l",
        "outputId": "40535ad7-f89e-4549-9a13-7b6743d0c556"
      },
      "execution_count": null,
      "outputs": [
        {
          "output_type": "stream",
          "name": "stdout",
          "text": [
            "<class 'pandas.core.frame.DataFrame'>\n",
            "RangeIndex: 200 entries, 0 to 199\n",
            "Data columns (total 2 columns):\n",
            " #   Column  Non-Null Count  Dtype  \n",
            "---  ------  --------------  -----  \n",
            " 0   TV      200 non-null    float64\n",
            " 1   Sales   200 non-null    float64\n",
            "dtypes: float64(2)\n",
            "memory usage: 3.2 KB\n"
          ]
        }
      ]
    },
    {
      "cell_type": "code",
      "source": [
        "Mark.describe()"
      ],
      "metadata": {
        "colab": {
          "base_uri": "https://localhost:8080/",
          "height": 297
        },
        "id": "Ejc1uqNgsgBe",
        "outputId": "42519cee-a0da-4adc-afca-cf74f7cad536"
      },
      "execution_count": null,
      "outputs": [
        {
          "output_type": "execute_result",
          "data": {
            "text/plain": [
              "               TV       Sales\n",
              "count  200.000000  200.000000\n",
              "mean   147.042500   14.022500\n",
              "std     85.854236    5.217457\n",
              "min      0.700000    1.600000\n",
              "25%     74.375000   10.375000\n",
              "50%    149.750000   12.900000\n",
              "75%    218.825000   17.400000\n",
              "max    296.400000   27.000000"
            ],
            "text/html": [
              "\n",
              "  <div id=\"df-3197b562-104a-459f-af67-639cad46d2d8\" class=\"colab-df-container\">\n",
              "    <div>\n",
              "<style scoped>\n",
              "    .dataframe tbody tr th:only-of-type {\n",
              "        vertical-align: middle;\n",
              "    }\n",
              "\n",
              "    .dataframe tbody tr th {\n",
              "        vertical-align: top;\n",
              "    }\n",
              "\n",
              "    .dataframe thead th {\n",
              "        text-align: right;\n",
              "    }\n",
              "</style>\n",
              "<table border=\"1\" class=\"dataframe\">\n",
              "  <thead>\n",
              "    <tr style=\"text-align: right;\">\n",
              "      <th></th>\n",
              "      <th>TV</th>\n",
              "      <th>Sales</th>\n",
              "    </tr>\n",
              "  </thead>\n",
              "  <tbody>\n",
              "    <tr>\n",
              "      <th>count</th>\n",
              "      <td>200.000000</td>\n",
              "      <td>200.000000</td>\n",
              "    </tr>\n",
              "    <tr>\n",
              "      <th>mean</th>\n",
              "      <td>147.042500</td>\n",
              "      <td>14.022500</td>\n",
              "    </tr>\n",
              "    <tr>\n",
              "      <th>std</th>\n",
              "      <td>85.854236</td>\n",
              "      <td>5.217457</td>\n",
              "    </tr>\n",
              "    <tr>\n",
              "      <th>min</th>\n",
              "      <td>0.700000</td>\n",
              "      <td>1.600000</td>\n",
              "    </tr>\n",
              "    <tr>\n",
              "      <th>25%</th>\n",
              "      <td>74.375000</td>\n",
              "      <td>10.375000</td>\n",
              "    </tr>\n",
              "    <tr>\n",
              "      <th>50%</th>\n",
              "      <td>149.750000</td>\n",
              "      <td>12.900000</td>\n",
              "    </tr>\n",
              "    <tr>\n",
              "      <th>75%</th>\n",
              "      <td>218.825000</td>\n",
              "      <td>17.400000</td>\n",
              "    </tr>\n",
              "    <tr>\n",
              "      <th>max</th>\n",
              "      <td>296.400000</td>\n",
              "      <td>27.000000</td>\n",
              "    </tr>\n",
              "  </tbody>\n",
              "</table>\n",
              "</div>\n",
              "    <div class=\"colab-df-buttons\">\n",
              "\n",
              "  <div class=\"colab-df-container\">\n",
              "    <button class=\"colab-df-convert\" onclick=\"convertToInteractive('df-3197b562-104a-459f-af67-639cad46d2d8')\"\n",
              "            title=\"Convert this dataframe to an interactive table.\"\n",
              "            style=\"display:none;\">\n",
              "\n",
              "  <svg xmlns=\"http://www.w3.org/2000/svg\" height=\"24px\" viewBox=\"0 -960 960 960\">\n",
              "    <path d=\"M120-120v-720h720v720H120Zm60-500h600v-160H180v160Zm220 220h160v-160H400v160Zm0 220h160v-160H400v160ZM180-400h160v-160H180v160Zm440 0h160v-160H620v160ZM180-180h160v-160H180v160Zm440 0h160v-160H620v160Z\"/>\n",
              "  </svg>\n",
              "    </button>\n",
              "\n",
              "  <style>\n",
              "    .colab-df-container {\n",
              "      display:flex;\n",
              "      gap: 12px;\n",
              "    }\n",
              "\n",
              "    .colab-df-convert {\n",
              "      background-color: #E8F0FE;\n",
              "      border: none;\n",
              "      border-radius: 50%;\n",
              "      cursor: pointer;\n",
              "      display: none;\n",
              "      fill: #1967D2;\n",
              "      height: 32px;\n",
              "      padding: 0 0 0 0;\n",
              "      width: 32px;\n",
              "    }\n",
              "\n",
              "    .colab-df-convert:hover {\n",
              "      background-color: #E2EBFA;\n",
              "      box-shadow: 0px 1px 2px rgba(60, 64, 67, 0.3), 0px 1px 3px 1px rgba(60, 64, 67, 0.15);\n",
              "      fill: #174EA6;\n",
              "    }\n",
              "\n",
              "    .colab-df-buttons div {\n",
              "      margin-bottom: 4px;\n",
              "    }\n",
              "\n",
              "    [theme=dark] .colab-df-convert {\n",
              "      background-color: #3B4455;\n",
              "      fill: #D2E3FC;\n",
              "    }\n",
              "\n",
              "    [theme=dark] .colab-df-convert:hover {\n",
              "      background-color: #434B5C;\n",
              "      box-shadow: 0px 1px 3px 1px rgba(0, 0, 0, 0.15);\n",
              "      filter: drop-shadow(0px 1px 2px rgba(0, 0, 0, 0.3));\n",
              "      fill: #FFFFFF;\n",
              "    }\n",
              "  </style>\n",
              "\n",
              "    <script>\n",
              "      const buttonEl =\n",
              "        document.querySelector('#df-3197b562-104a-459f-af67-639cad46d2d8 button.colab-df-convert');\n",
              "      buttonEl.style.display =\n",
              "        google.colab.kernel.accessAllowed ? 'block' : 'none';\n",
              "\n",
              "      async function convertToInteractive(key) {\n",
              "        const element = document.querySelector('#df-3197b562-104a-459f-af67-639cad46d2d8');\n",
              "        const dataTable =\n",
              "          await google.colab.kernel.invokeFunction('convertToInteractive',\n",
              "                                                    [key], {});\n",
              "        if (!dataTable) return;\n",
              "\n",
              "        const docLinkHtml = 'Like what you see? Visit the ' +\n",
              "          '<a target=\"_blank\" href=https://colab.research.google.com/notebooks/data_table.ipynb>data table notebook</a>'\n",
              "          + ' to learn more about interactive tables.';\n",
              "        element.innerHTML = '';\n",
              "        dataTable['output_type'] = 'display_data';\n",
              "        await google.colab.output.renderOutput(dataTable, element);\n",
              "        const docLink = document.createElement('div');\n",
              "        docLink.innerHTML = docLinkHtml;\n",
              "        element.appendChild(docLink);\n",
              "      }\n",
              "    </script>\n",
              "  </div>\n",
              "\n",
              "\n",
              "<div id=\"df-8b5ada08-0e55-4d89-b11f-2f514218d89f\">\n",
              "  <button class=\"colab-df-quickchart\" onclick=\"quickchart('df-8b5ada08-0e55-4d89-b11f-2f514218d89f')\"\n",
              "            title=\"Suggest charts.\"\n",
              "            style=\"display:none;\">\n",
              "\n",
              "<svg xmlns=\"http://www.w3.org/2000/svg\" height=\"24px\"viewBox=\"0 0 24 24\"\n",
              "     width=\"24px\">\n",
              "    <g>\n",
              "        <path d=\"M19 3H5c-1.1 0-2 .9-2 2v14c0 1.1.9 2 2 2h14c1.1 0 2-.9 2-2V5c0-1.1-.9-2-2-2zM9 17H7v-7h2v7zm4 0h-2V7h2v10zm4 0h-2v-4h2v4z\"/>\n",
              "    </g>\n",
              "</svg>\n",
              "  </button>\n",
              "\n",
              "<style>\n",
              "  .colab-df-quickchart {\n",
              "      --bg-color: #E8F0FE;\n",
              "      --fill-color: #1967D2;\n",
              "      --hover-bg-color: #E2EBFA;\n",
              "      --hover-fill-color: #174EA6;\n",
              "      --disabled-fill-color: #AAA;\n",
              "      --disabled-bg-color: #DDD;\n",
              "  }\n",
              "\n",
              "  [theme=dark] .colab-df-quickchart {\n",
              "      --bg-color: #3B4455;\n",
              "      --fill-color: #D2E3FC;\n",
              "      --hover-bg-color: #434B5C;\n",
              "      --hover-fill-color: #FFFFFF;\n",
              "      --disabled-bg-color: #3B4455;\n",
              "      --disabled-fill-color: #666;\n",
              "  }\n",
              "\n",
              "  .colab-df-quickchart {\n",
              "    background-color: var(--bg-color);\n",
              "    border: none;\n",
              "    border-radius: 50%;\n",
              "    cursor: pointer;\n",
              "    display: none;\n",
              "    fill: var(--fill-color);\n",
              "    height: 32px;\n",
              "    padding: 0;\n",
              "    width: 32px;\n",
              "  }\n",
              "\n",
              "  .colab-df-quickchart:hover {\n",
              "    background-color: var(--hover-bg-color);\n",
              "    box-shadow: 0 1px 2px rgba(60, 64, 67, 0.3), 0 1px 3px 1px rgba(60, 64, 67, 0.15);\n",
              "    fill: var(--button-hover-fill-color);\n",
              "  }\n",
              "\n",
              "  .colab-df-quickchart-complete:disabled,\n",
              "  .colab-df-quickchart-complete:disabled:hover {\n",
              "    background-color: var(--disabled-bg-color);\n",
              "    fill: var(--disabled-fill-color);\n",
              "    box-shadow: none;\n",
              "  }\n",
              "\n",
              "  .colab-df-spinner {\n",
              "    border: 2px solid var(--fill-color);\n",
              "    border-color: transparent;\n",
              "    border-bottom-color: var(--fill-color);\n",
              "    animation:\n",
              "      spin 1s steps(1) infinite;\n",
              "  }\n",
              "\n",
              "  @keyframes spin {\n",
              "    0% {\n",
              "      border-color: transparent;\n",
              "      border-bottom-color: var(--fill-color);\n",
              "      border-left-color: var(--fill-color);\n",
              "    }\n",
              "    20% {\n",
              "      border-color: transparent;\n",
              "      border-left-color: var(--fill-color);\n",
              "      border-top-color: var(--fill-color);\n",
              "    }\n",
              "    30% {\n",
              "      border-color: transparent;\n",
              "      border-left-color: var(--fill-color);\n",
              "      border-top-color: var(--fill-color);\n",
              "      border-right-color: var(--fill-color);\n",
              "    }\n",
              "    40% {\n",
              "      border-color: transparent;\n",
              "      border-right-color: var(--fill-color);\n",
              "      border-top-color: var(--fill-color);\n",
              "    }\n",
              "    60% {\n",
              "      border-color: transparent;\n",
              "      border-right-color: var(--fill-color);\n",
              "    }\n",
              "    80% {\n",
              "      border-color: transparent;\n",
              "      border-right-color: var(--fill-color);\n",
              "      border-bottom-color: var(--fill-color);\n",
              "    }\n",
              "    90% {\n",
              "      border-color: transparent;\n",
              "      border-bottom-color: var(--fill-color);\n",
              "    }\n",
              "  }\n",
              "</style>\n",
              "\n",
              "  <script>\n",
              "    async function quickchart(key) {\n",
              "      const quickchartButtonEl =\n",
              "        document.querySelector('#' + key + ' button');\n",
              "      quickchartButtonEl.disabled = true;  // To prevent multiple clicks.\n",
              "      quickchartButtonEl.classList.add('colab-df-spinner');\n",
              "      try {\n",
              "        const charts = await google.colab.kernel.invokeFunction(\n",
              "            'suggestCharts', [key], {});\n",
              "      } catch (error) {\n",
              "        console.error('Error during call to suggestCharts:', error);\n",
              "      }\n",
              "      quickchartButtonEl.classList.remove('colab-df-spinner');\n",
              "      quickchartButtonEl.classList.add('colab-df-quickchart-complete');\n",
              "    }\n",
              "    (() => {\n",
              "      let quickchartButtonEl =\n",
              "        document.querySelector('#df-8b5ada08-0e55-4d89-b11f-2f514218d89f button');\n",
              "      quickchartButtonEl.style.display =\n",
              "        google.colab.kernel.accessAllowed ? 'block' : 'none';\n",
              "    })();\n",
              "  </script>\n",
              "</div>\n",
              "    </div>\n",
              "  </div>\n"
            ]
          },
          "metadata": {},
          "execution_count": 5
        }
      ]
    },
    {
      "cell_type": "code",
      "source": [
        "Mark.shape"
      ],
      "metadata": {
        "colab": {
          "base_uri": "https://localhost:8080/"
        },
        "id": "J7DE_8rlskCA",
        "outputId": "822b959a-6b2e-4e5a-c24c-b3fdc8aadb75"
      },
      "execution_count": null,
      "outputs": [
        {
          "output_type": "execute_result",
          "data": {
            "text/plain": [
              "(200, 2)"
            ]
          },
          "metadata": {},
          "execution_count": 6
        }
      ]
    },
    {
      "cell_type": "code",
      "source": [
        "x=['Sales']\n",
        "plt.plot(x)"
      ],
      "metadata": {
        "colab": {
          "base_uri": "https://localhost:8080/",
          "height": 447
        },
        "id": "2bjCWjQBsnve",
        "outputId": "42360f54-f5d9-4231-a041-ae10ea9b35ce"
      },
      "execution_count": null,
      "outputs": [
        {
          "output_type": "execute_result",
          "data": {
            "text/plain": [
              "[<matplotlib.lines.Line2D at 0x7d81f9b91ed0>]"
            ]
          },
          "metadata": {},
          "execution_count": 8
        },
        {
          "output_type": "display_data",
          "data": {
            "text/plain": [
              "<Figure size 640x480 with 1 Axes>"
            ],
            "image/png": "[encoded data removed]"
          },
          "metadata": {}
        }
      ]
    },
    {
      "cell_type": "code",
      "source": [
        "y=['TV']\n",
        "plt.plot(y)"
      ],
      "metadata": {
        "colab": {
          "base_uri": "https://localhost:8080/",
          "height": 447
        },
        "id": "Ed0u2BVrtDSP",
        "outputId": "8f128a68-0cd7-4bdb-b748-2d9ddd0a913f"
      },
      "execution_count": null,
      "outputs": [
        {
          "output_type": "execute_result",
          "data": {
            "text/plain": [
              "[<matplotlib.lines.Line2D at 0x7d81f5ad6800>]"
            ]
          },
          "metadata": {},
          "execution_count": 9
        },
        {
          "output_type": "display_data",
          "data": {
            "text/plain": [
              "<Figure size 640x480 with 1 Axes>"
            ],
            "image/png": "[encoded data removed]"
          },
          "metadata": {}
        }
      ]
    },
    {
      "cell_type": "code",
      "source": [
        "x=[45,98,22,62,71]\n",
        "y=[55,59,27,81,92,]\n",
        "plt.scatter(x,y)"
      ],
      "metadata": {
        "colab": {
          "base_uri": "https://localhost:8080/",
          "height": 447
        },
        "id": "FGb9OmXWtMIH",
        "outputId": "cb6b06be-9cf6-48c1-fff6-791dc949bfd1"
      },
      "execution_count": null,
      "outputs": [
        {
          "output_type": "execute_result",
          "data": {
            "text/plain": [
              "<matplotlib.collections.PathCollection at 0x7d81f58f5630>"
            ]
          },
          "metadata": {},
          "execution_count": 10
        },
        {
          "output_type": "display_data",
          "data": {
            "text/plain": [
              "<Figure size 640x480 with 1 Axes>"
            ],
            "image/png": "[encoded data removed]"
          },
          "metadata": {}
        }
      ]
    },
    {
      "cell_type": "code",
      "source": [
        "c=[29,76,94,56,31]\n",
        "sns.lineplot(c)"
      ],
      "metadata": {
        "colab": {
          "base_uri": "https://localhost:8080/",
          "height": 447
        },
        "id": "lEM-fsfPtcn4",
        "outputId": "4f0fef8d-84df-42d1-95d5-d72fc25e3f22"
      },
      "execution_count": null,
      "outputs": [
        {
          "output_type": "execute_result",
          "data": {
            "text/plain": [
              "<Axes: >"
            ]
          },
          "metadata": {},
          "execution_count": 12
        },
        {
          "output_type": "display_data",
          "data": {
            "text/plain": [
              "<Figure size 640x480 with 1 Axes>"
            ],
            "image/png": "[encoded data removed]"
          },
          "metadata": {}
        }
      ]
    },
    {
      "cell_type": "code",
      "source": [
        "b=Mark['Sales']\n",
        "plt.boxplot(b)"
      ],
      "metadata": {
        "colab": {
          "base_uri": "https://localhost:8080/",
          "height": 566
        },
        "id": "9c2r5WZ0ttK_",
        "outputId": "25c89b85-89ef-49e9-88fe-318771f2ee6c"
      },
      "execution_count": null,
      "outputs": [
        {
          "output_type": "execute_result",
          "data": {
            "text/plain": [
              "{'whiskers': [<matplotlib.lines.Line2D at 0x7d81f32bded0>,\n",
              "  <matplotlib.lines.Line2D at 0x7d81f32be1a0>],\n",
              " 'caps': [<matplotlib.lines.Line2D at 0x7d81f32be440>,\n",
              "  <matplotlib.lines.Line2D at 0x7d81f32602e0>],\n",
              " 'boxes': [<matplotlib.lines.Line2D at 0x7d81f32bdc30>],\n",
              " 'medians': [<matplotlib.lines.Line2D at 0x7d81f32be380>],\n",
              " 'fliers': [<matplotlib.lines.Line2D at 0x7d81f32be620>],\n",
              " 'means': []}"
            ]
          },
          "metadata": {},
          "execution_count": 15
        },
        {
          "output_type": "display_data",
          "data": {
            "text/plain": [
              "<Figure size 640x480 with 1 Axes>"
            ],
            "image/png": "[encoded data removed]"
          },
          "metadata": {}
        }
      ]
    },
    {
      "cell_type": "code",
      "source": [
        "a=Mark['TV']\n",
        "plt.pie(a)"
      ],
      "metadata": {
        "colab": {
          "base_uri": "https://localhost:8080/",
          "height": 1000
        },
        "id": "1Bll6aRpuFYc",
        "outputId": "25b8451e-dbd2-4ea6-b563-d1b7f6c86f94"
      },
      "execution_count": null,
      "outputs": [
        {
          "output_type": "execute_result",
          "data": {
            "text/plain": [
              "([<matplotlib.patches.Wedge at 0x7d81f5548d00>,\n",
              "  <matplotlib.patches.Wedge at 0x7d81f5548df0>,\n",
              "  <matplotlib.patches.Wedge at 0x7d81f56128f0>,\n",
              "  <matplotlib.patches.Wedge at 0x7d81f5611a80>,\n",
              "  <matplotlib.patches.Wedge at 0x7d81f5685540>,\n",
              "  <matplotlib.patches.Wedge at 0x7d81f5684520>,\n",
              "  <matplotlib.patches.Wedge at 0x7d81f5687a60>,\n",
              "  <matplotlib.patches.Wedge at 0x7d81f5685db0>,\n",
              "  <matplotlib.patches.Wedge at 0x7d81f32bf520>,\n",
              "  <matplotlib.patches.Wedge at 0x7d81f32bf7c0>,\n",
              "  <matplotlib.patches.Wedge at 0x7d81f554b5e0>,\n",
              "  <matplotlib.patches.Wedge at 0x7d81f5568820>,\n",
              "  <matplotlib.patches.Wedge at 0x7d81f5568d90>,\n",
              "  <matplotlib.patches.Wedge at 0x7d81f5569150>,\n",
              "  <matplotlib.patches.Wedge at 0x7d81f55695d0>,\n",
              "  <matplotlib.patches.Wedge at 0x7d81f5569a50>,\n",
              "  <matplotlib.patches.Wedge at 0x7d81f5569ed0>,\n",
              "  <matplotlib.patches.Wedge at 0x7d81f556a350>,\n",
              "  <matplotlib.patches.Wedge at 0x7d81f556a7d0>,\n",
              "  <matplotlib.patches.Wedge at 0x7d81f556ac50>,\n",
              "  <matplotlib.patches.Wedge at 0x7d81f556b0d0>,\n",
              "  <matplotlib.patches.Wedge at 0x7d81f556b550>,\n",
              "  <matplotlib.patches.Wedge at 0x7d81f556b9d0>,\n",
              "  <matplotlib.patches.Wedge at 0x7d81f556be50>,\n",
              "  <matplotlib.patches.Wedge at 0x7d81f558c310>,\n",
              "  <matplotlib.patches.Wedge at 0x7d81f558c790>,\n",
              "  <matplotlib.patches.Wedge at 0x7d81f558cc10>,\n",
              "  <matplotlib.patches.Wedge at 0x7d81f558d090>,\n",
              "  <matplotlib.patches.Wedge at 0x7d81f558d510>,\n",
              "  <matplotlib.patches.Wedge at 0x7d81f558d990>,\n",
              "  <matplotlib.patches.Wedge at 0x7d81f558de10>,\n",
              "  <matplotlib.patches.Wedge at 0x7d81f558e290>,\n",
              "  <matplotlib.patches.Wedge at 0x7d81f558e710>,\n",
              "  <matplotlib.patches.Wedge at 0x7d81f558eb90>,\n",
              "  <matplotlib.patches.Wedge at 0x7d81f558f100>,\n",
              "  <matplotlib.patches.Wedge at 0x7d81f558f4c0>,\n",
              "  <matplotlib.patches.Wedge at 0x7d81f558f940>,\n",
              "  <matplotlib.patches.Wedge at 0x7d81f558fdc0>,\n",
              "  <matplotlib.patches.Wedge at 0x7d81f5520280>,\n",
              "  <matplotlib.patches.Wedge at 0x7d81f5520700>,\n",
              "  <matplotlib.patches.Wedge at 0x7d81f5520b80>,\n",
              "  <matplotlib.patches.Wedge at 0x7d81f5521000>,\n",
              "  <matplotlib.patches.Wedge at 0x7d81f5521480>,\n",
              "  <matplotlib.patches.Wedge at 0x7d81f5521900>,\n",
              "  <matplotlib.patches.Wedge at 0x7d81f5521d80>,\n",
              "  <matplotlib.patches.Wedge at 0x7d81f5522200>,\n",
              "  <matplotlib.patches.Wedge at 0x7d81f5522680>,\n",
              "  <matplotlib.patches.Wedge at 0x7d81f5522b00>,\n",
              "  <matplotlib.patches.Wedge at 0x7d81f5522f80>,\n",
              "  <matplotlib.patches.Wedge at 0x7d81f5523400>,\n",
              "  <matplotlib.patches.Wedge at 0x7d81f5523880>,\n",
              "  <matplotlib.patches.Wedge at 0x7d81f5523d00>,\n",
              "  <matplotlib.patches.Wedge at 0x7d81f552c1c0>,\n",
              "  <matplotlib.patches.Wedge at 0x7d81f552c640>,\n",
              "  <matplotlib.patches.Wedge at 0x7d81f552cac0>,\n",
              "  <matplotlib.patches.Wedge at 0x7d81f552cf40>,\n",
              "  <matplotlib.patches.Wedge at 0x7d81f552d3c0>,\n",
              "  <matplotlib.patches.Wedge at 0x7d81f552d840>,\n",
              "  <matplotlib.patches.Wedge at 0x7d81f552dcc0>,\n",
              "  <matplotlib.patches.Wedge at 0x7d81f552e140>,\n",
              "  <matplotlib.patches.Wedge at 0x7d81f552e5c0>,\n",
              "  <matplotlib.patches.Wedge at 0x7d81f552ea40>,\n",
              "  <matplotlib.patches.Wedge at 0x7d81f552eec0>,\n",
              "  <matplotlib.patches.Wedge at 0x7d81f552f340>,\n",
              "  <matplotlib.patches.Wedge at 0x7d81f552f7c0>,\n",
              "  <matplotlib.patches.Wedge at 0x7d81f552fc40>,\n",
              "  <matplotlib.patches.Wedge at 0x7d81f3390100>,\n",
              "  <matplotlib.patches.Wedge at 0x7d81f3390580>,\n",
              "  <matplotlib.patches.Wedge at 0x7d81f3390a00>,\n",
              "  <matplotlib.patches.Wedge at 0x7d81f3390e80>,\n",
              "  <matplotlib.patches.Wedge at 0x7d81f3391300>,\n",
              "  <matplotlib.patches.Wedge at 0x7d81f3391780>,\n",
              "  <matplotlib.patches.Wedge at 0x7d81f3391c00>,\n",
              "  <matplotlib.patches.Wedge at 0x7d81f3392080>,\n",
              "  <matplotlib.patches.Wedge at 0x7d81f3392500>,\n",
              "  <matplotlib.patches.Wedge at 0x7d81f3392980>,\n",
              "  <matplotlib.patches.Wedge at 0x7d81f3392e00>,\n",
              "  <matplotlib.patches.Wedge at 0x7d81f3393280>,\n",
              "  <matplotlib.patches.Wedge at 0x7d81f3393700>,\n",
              "  <matplotlib.patches.Wedge at 0x7d81f3393b80>,\n",
              "  <matplotlib.patches.Wedge at 0x7d81f3354040>,\n",
              "  <matplotlib.patches.Wedge at 0x7d81f33544c0>,\n",
              "  <matplotlib.patches.Wedge at 0x7d81f3354940>,\n",
              "  <matplotlib.patches.Wedge at 0x7d81f3354dc0>,\n",
              "  <matplotlib.patches.Wedge at 0x7d81f3355240>,\n",
              "  <matplotlib.patches.Wedge at 0x7d81f33556c0>,\n",
              "  <matplotlib.patches.Wedge at 0x7d81f3355b40>,\n",
              "  <matplotlib.patches.Wedge at 0x7d81f3355fc0>,\n",
              "  <matplotlib.patches.Wedge at 0x7d81f3356440>,\n",
              "  <matplotlib.patches.Wedge at 0x7d81f33568c0>,\n",
              "  <matplotlib.patches.Wedge at 0x7d81f3356d40>,\n",
              "  <matplotlib.patches.Wedge at 0x7d81f33571c0>,\n",
              "  <matplotlib.patches.Wedge at 0x7d81f3357640>,\n",
              "  <matplotlib.patches.Wedge at 0x7d81f3357ac0>,\n",
              "  <matplotlib.patches.Wedge at 0x7d81f3357f40>,\n",
              "  <matplotlib.patches.Wedge at 0x7d81f33d8400>,\n",
              "  <matplotlib.patches.Wedge at 0x7d81f33d8880>,\n",
              "  <matplotlib.patches.Wedge at 0x7d81f33d8d00>,\n",
              "  <matplotlib.patches.Wedge at 0x7d81f33d9180>,\n",
              "  <matplotlib.patches.Wedge at 0x7d81f33d9600>,\n",
              "  <matplotlib.patches.Wedge at 0x7d81f33d9a80>,\n",
              "  <matplotlib.patches.Wedge at 0x7d81f33d9f00>,\n",
              "  <matplotlib.patches.Wedge at 0x7d81f33da380>,\n",
              "  <matplotlib.patches.Wedge at 0x7d81f33da800>,\n",
              "  <matplotlib.patches.Wedge at 0x7d81f33dac80>,\n",
              "  <matplotlib.patches.Wedge at 0x7d81f33db100>,\n",
              "  <matplotlib.patches.Wedge at 0x7d81f33db580>,\n",
              "  <matplotlib.patches.Wedge at 0x7d81f33dba00>,\n",
              "  <matplotlib.patches.Wedge at 0x7d81f33dbe80>,\n",
              "  <matplotlib.patches.Wedge at 0x7d81f3324dc0>,\n",
              "  <matplotlib.patches.Wedge at 0x7d81f3325030>,\n",
              "  <matplotlib.patches.Wedge at 0x7d81f3324340>,\n",
              "  <matplotlib.patches.Wedge at 0x7d81f33250f0>,\n",
              "  <matplotlib.patches.Wedge at 0x7d81f3325630>,\n",
              "  <matplotlib.patches.Wedge at 0x7d81f3325ba0>,\n",
              "  <matplotlib.patches.Wedge at 0x7d81f3325f60>,\n",
              "  <matplotlib.patches.Wedge at 0x7d81f3326320>,\n",
              "  <matplotlib.patches.Wedge at 0x7d81f3326770>,\n",
              "  <matplotlib.patches.Wedge at 0x7d81f3326b90>,\n",
              "  <matplotlib.patches.Wedge at 0x7d81f3327250>,\n",
              "  <matplotlib.patches.Wedge at 0x7d81f3327400>,\n",
              "  <matplotlib.patches.Wedge at 0x7d81f33276d0>,\n",
              "  <matplotlib.patches.Wedge at 0x7d81f3327eb0>,\n",
              "  <matplotlib.patches.Wedge at 0x7d81f31c2350>,\n",
              "  <matplotlib.patches.Wedge at 0x7d81f31c2620>,\n",
              "  <matplotlib.patches.Wedge at 0x7d81f31c2ad0>,\n",
              "  <matplotlib.patches.Wedge at 0x7d81f31c2e60>,\n",
              "  <matplotlib.patches.Wedge at 0x7d81f31c3400>,\n",
              "  <matplotlib.patches.Wedge at 0x7d81f31c38e0>,\n",
              "  <matplotlib.patches.Wedge at 0x7d81f31c3970>,\n",
              "  <matplotlib.patches.Wedge at 0x7d81f31c0070>,\n",
              "  <matplotlib.patches.Wedge at 0x7d81f31c04f0>,\n",
              "  <matplotlib.patches.Wedge at 0x7d81f31c0970>,\n",
              "  <matplotlib.patches.Wedge at 0x7d81f31c0df0>,\n",
              "  <matplotlib.patches.Wedge at 0x7d81f31c1270>,\n",
              "  <matplotlib.patches.Wedge at 0x7d81f31c16f0>,\n",
              "  <matplotlib.patches.Wedge at 0x7d81f31c1b70>,\n",
              "  <matplotlib.patches.Wedge at 0x7d81f31c1ff0>,\n",
              "  <matplotlib.patches.Wedge at 0x7d81f3147b50>,\n",
              "  <matplotlib.patches.Wedge at 0x7d81f3146c50>,\n",
              "  <matplotlib.patches.Wedge at 0x7d81f3147190>,\n",
              "  <matplotlib.patches.Wedge at 0x7d81f3146e90>,\n",
              "  <matplotlib.patches.Wedge at 0x7d81f3146a10>,\n",
              "  <matplotlib.patches.Wedge at 0x7d81f3146410>,\n",
              "  <matplotlib.patches.Wedge at 0x7d81f3146080>,\n",
              "  <matplotlib.patches.Wedge at 0x7d81f3145bd0>,\n",
              "  <matplotlib.patches.Wedge at 0x7d81f3145600>,\n",
              "  <matplotlib.patches.Wedge at 0x7d81f3145300>,\n",
              "  <matplotlib.patches.Wedge at 0x7d81f3144df0>,\n",
              "  <matplotlib.patches.Wedge at 0x7d81f3144880>,\n",
              "  <matplotlib.patches.Wedge at 0x7d81f3144bb0>,\n",
              "  <matplotlib.patches.Wedge at 0x7d81f31440a0>,\n",
              "  <matplotlib.patches.Wedge at 0x7d81f31903a0>,\n",
              "  <matplotlib.patches.Wedge at 0x7d81f3190820>,\n",
              "  <matplotlib.patches.Wedge at 0x7d81f3190ca0>,\n",
              "  <matplotlib.patches.Wedge at 0x7d81f3191120>,\n",
              "  <matplotlib.patches.Wedge at 0x7d81f31915a0>,\n",
              "  <matplotlib.patches.Wedge at 0x7d81f3191a20>,\n",
              "  <matplotlib.patches.Wedge at 0x7d81f3191ea0>,\n",
              "  <matplotlib.patches.Wedge at 0x7d81f3192350>,\n",
              "  <matplotlib.patches.Wedge at 0x7d81f31927d0>,\n",
              "  <matplotlib.patches.Wedge at 0x7d81f3192c50>,\n",
              "  <matplotlib.patches.Wedge at 0x7d81f31930d0>,\n",
              "  <matplotlib.patches.Wedge at 0x7d81f3193550>,\n",
              "  <matplotlib.patches.Wedge at 0x7d81f31939d0>,\n",
              "  <matplotlib.patches.Wedge at 0x7d81f3193e50>,\n",
              "  <matplotlib.patches.Wedge at 0x7d81f3173880>,\n",
              "  <matplotlib.patches.Wedge at 0x7d81f3173910>,\n",
              "  <matplotlib.patches.Wedge at 0x7d81f31736d0>,\n",
              "  <matplotlib.patches.Wedge at 0x7d81f3172bc0>,\n",
              "  <matplotlib.patches.Wedge at 0x7d81f3172e30>,\n",
              "  <matplotlib.patches.Wedge at 0x7d81f3172530>,\n",
              "  <matplotlib.patches.Wedge at 0x7d81f3171e70>,\n",
              "  <matplotlib.patches.Wedge at 0x7d81f3171cc0>,\n",
              "  <matplotlib.patches.Wedge at 0x7d81f3171720>,\n",
              "  <matplotlib.patches.Wedge at 0x7d81f3170e80>,\n",
              "  <matplotlib.patches.Wedge at 0x7d81f3171030>,\n",
              "  <matplotlib.patches.Wedge at 0x7d81f31707f0>,\n",
              "  <matplotlib.patches.Wedge at 0x7d81f3170520>,\n",
              "  <matplotlib.patches.Wedge at 0x7d81f3170640>,\n",
              "  <matplotlib.patches.Wedge at 0x7d81f3060280>,\n",
              "  <matplotlib.patches.Wedge at 0x7d81f3060700>,\n",
              "  <matplotlib.patches.Wedge at 0x7d81f3060b80>,\n",
              "  <matplotlib.patches.Wedge at 0x7d81f3061000>,\n",
              "  <matplotlib.patches.Wedge at 0x7d81f3061480>,\n",
              "  <matplotlib.patches.Wedge at 0x7d81f3061900>,\n",
              "  <matplotlib.patches.Wedge at 0x7d81f3061d80>,\n",
              "  <matplotlib.patches.Wedge at 0x7d81f3062200>,\n",
              "  <matplotlib.patches.Wedge at 0x7d81f3062680>,\n",
              "  <matplotlib.patches.Wedge at 0x7d81f3062b00>,\n",
              "  <matplotlib.patches.Wedge at 0x7d81f3062f80>,\n",
              "  <matplotlib.patches.Wedge at 0x7d81f3063400>,\n",
              "  <matplotlib.patches.Wedge at 0x7d81f3063880>,\n",
              "  <matplotlib.patches.Wedge at 0x7d81f3063d00>,\n",
              "  <matplotlib.patches.Wedge at 0x7d81f302c460>,\n",
              "  <matplotlib.patches.Wedge at 0x7d81f302c640>,\n",
              "  <matplotlib.patches.Wedge at 0x7d81f302cb50>,\n",
              "  <matplotlib.patches.Wedge at 0x7d81f302d000>,\n",
              "  <matplotlib.patches.Wedge at 0x7d81f302d300>,\n",
              "  <matplotlib.patches.Wedge at 0x7d81f302d990>],\n",
              " [Text(1.0996677016936736, 0.027036010278034827, ''),\n",
              "  Text(1.0984016269163994, 0.05927787097565927, ''),\n",
              "  Text(1.0979870604359523, 0.06651627706972639, ''),\n",
              "  Text(1.0966101039078515, 0.08629183047781094, ''),\n",
              "  Text(1.0928566734497622, 0.12515706650573044, ''),\n",
              "  Text(1.090099306910019, 0.14725318697500558, ''),\n",
              "  Text(1.0890306998458603, 0.15495849377570717, ''),\n",
              "  Text(1.0858930902461894, 0.17560238197581834, ''),\n",
              "  Text(1.0833742336293068, 0.19052629715635638, ''),\n",
              "  Text(1.0788645242236594, 0.21459575571678277, ''),\n",
              "  Text(1.0723345341028068, 0.24515025386590295, ''),\n",
              "  Text(1.0644995182749923, 0.27720168757117947, ''),\n",
              "  Text(1.057092257264478, 0.30423010967274555, ''),\n",
              "  Text(1.0530614087393286, 0.3179019808430595, ''),\n",
              "  Text(1.0422742682916948, 0.35165942281845974, ''),\n",
              "  Text(1.0263220412602805, 0.39580685646326447, ''),\n",
              "  Text(1.0147891129867666, 0.4245033052445315, ''),\n",
              "  Text(0.9982512780228152, 0.4620545270050021, ''),\n",
              "  Text(0.980249842391766, 0.4991094534177028, ''),\n",
              "  Text(0.9684453980340215, 0.5216450047941855, ''),\n",
              "  Text(0.9473329424580386, 0.559070922275336, ''),\n",
              "  Text(0.9189990460332457, 0.6045169587281938, ''),\n",
              "  Text(0.9024884124030256, 0.6288995670838602, ''),\n",
              "  Text(0.8859652445355183, 0.6519705403429816, ''),\n",
              "  Text(0.8653020863600007, 0.6791555781564559, ''),\n",
              "  Text(0.8411909963288832, 0.7088001888368972, ''),\n",
              "  Text(0.8096838672510486, 0.7445885005245424, ''),\n",
              "  Text(0.7785503990618737, 0.7770838282454456, ''),\n",
              "  Text(0.7369223292307242, 0.8166673010970651, ''),\n",
              "  Text(0.7086339451955941, 0.8413310476361419, ''),\n",
              "  Text(0.6754380208650205, 0.8682070490211102, ''),\n",
              "  Text(0.6371784885398433, 0.8966624636629333, ''),\n",
              "  Text(0.6168948773446759, 0.9107363560909917, ''),\n",
              "  Text(0.5811435309814859, 0.9339551361807328, ''),\n",
              "  Text(0.5446725232225792, 0.9556839657786192, ''),\n",
              "  Text(0.5047714610971097, 0.9773462907597743, ''),\n",
              "  Text(0.44569386153343443, 1.0056624591737606, ''),\n",
              "  Text(0.40870688890447127, 1.0212534841859922, ''),\n",
              "  Text(0.3958233082776079, 1.0263156963742541, ''),\n",
              "  Text(0.3659388369226302, 1.0373469851653847, ''),\n",
              "  Text(0.31786261706227026, 1.0530732912168672, ''),\n",
              "  Text(0.2749210525156794, 1.0650908012388762, ''),\n",
              "  Text(0.22105168833890718, 1.0775602772385955, ''),\n",
              "  Text(0.16314996813867638, 1.087833667385023, ''),\n",
              "  Text(0.13614215441974545, 1.091542630312692, ''),\n",
              "  Text(0.11276845012652309, 1.0942044035078922, ''),\n",
              "  Text(0.08177512602647367, 1.0969561653791615, ''),\n",
              "  Text(0.043108756849695014, 1.0991549640896292, ''),\n",
              "  Text(-0.011768247635335597, 1.0999370474475316, ''),\n",
              "  Text(-0.04631405886851515, 1.0990245711316575, ''),\n",
              "  Text(-0.07760278390751926, 1.097259225493139, ''),\n",
              "  Text(-0.11274504260539646, 1.0942068156285207, ''),\n",
              "  Text(-0.149704086756615, 1.0897654272403616, ''),\n",
              "  Text(-0.19600375534347136, 1.0823966592202956, ''),\n",
              "  Text(-0.2472518153576668, 1.0718519206505805, ''),\n",
              "  Text(-0.29978382228013456, 1.0583617811972958, ''),\n",
              "  Text(-0.32302229881232736, 1.051502065842003, ''),\n",
              "  Text(-0.3391027483591711, 1.0464269329749005, ''),\n",
              "  Text(-0.37765052241020086, 1.0331408824179316, ''),\n",
              "  Text(-0.42377143930238764, 1.0150949547857988, ''),\n",
              "  Text(-0.452248329597331, 1.002731992297256, ''),\n",
              "  Text(-0.4857069757568654, 0.9869593374101691, ''),\n",
              "  Text(-0.5377671981577946, 0.9595865987942492, ''),\n",
              "  Text(-0.5724585528696834, 0.9393035745946824, ''),\n",
              "  Text(-0.5957375464432417, 0.9247144293011689, ''),\n",
              "  Text(-0.6153665312919442, 0.9117697254053355, ''),\n",
              "  Text(-0.6251196517803855, 0.9051107230377783, ''),\n",
              "  Text(-0.6415292266934673, 0.8935548395583127, ''),\n",
              "  Text(-0.6769580148397778, 0.8670224023312127, ''),\n",
              "  Text(-0.7182130594249322, 0.8331686511574227, ''),\n",
              "  Text(-0.7545089458357894, 0.8004475314808371, ''),\n",
              "  Text(-0.7805070070821186, 0.7751185792481777, ''),\n",
              "  Text(-0.7917343725821316, 0.7636469624584247, ''),\n",
              "  Text(-0.8043659445230325, 0.7503302121676628, ''),\n",
              "  Text(-0.8312975860705899, 0.7203779031822188, ''),\n",
              "  Text(-0.8487669938212596, 0.6997103616494629, ''),\n",
              "  Text(-0.852076212616467, 0.6956767409459492, ''),\n",
              "  Text(-0.8629680848528014, 0.6821188199467072, ''),\n",
              "  Text(-0.8720638447742287, 0.6704510799734684, ''),\n",
              "  Text(-0.8806851313543298, 0.6590855023526211, ''),\n",
              "  Text(-0.8940445645023388, 0.6408465625122939, ''),\n",
              "  Text(-0.9151772155144348, 0.6102873619887977, ''),\n",
              "  Text(-0.9351977197029644, 0.5791418004792747, ''),\n",
              "  Text(-0.9439775294395767, 0.564718003886146, ''),\n",
              "  Text(-0.9605530198493388, 0.5360390807192287, ''),\n",
              "  Text(-0.982928109486071, 0.4938140658002144, ''),\n",
              "  Text(-0.9967355418211222, 0.4653152261323008, ''),\n",
              "  Text(-1.005831404799254, 0.445312457853538, ''),\n",
              "  Text(-1.0150700429901798, 0.42383110766426163, ''),\n",
              "  Text(-1.0238113000629847, 0.40225666167677243, ''),\n",
              "  Text(-1.033951387759209, 0.3754257952655971, ''),\n",
              "  Text(-1.0403276509978157, 0.3573770817629008, ''),\n",
              "  Text(-1.0493695232582014, 0.32988422765699993, ''),\n",
              "  Text(-1.0645616748736013, 0.2769628863048496, ''),\n",
              "  Text(-1.0743803371964864, 0.23602307312117743, ''),\n",
              "  Text(-1.0807554661726693, 0.2048600066823601, ''),\n",
              "  Text(-1.0878484781903857, 0.16305118367820068, ''),\n",
              "  Text(-1.0936010314539164, 0.11847693447642123, ''),\n",
              "  Text(-1.0981999711615078, 0.06290328561262415, ''),\n",
              "  Text(-1.099923085650087, 0.013007907364051012, ''),\n",
              "  Text(-1.099617410162721, -0.029009503046942903, ''),\n",
              "  Text(-1.0963221692076028, -0.08987603297841035, ''),\n",
              "  Text(-1.088710581578207, -0.15719182408650312, ''),\n",
              "  Text(-1.0794925487610998, -0.21141390013257172, ''),\n",
              "  Text(-1.0687544860524454, -0.26031490265210244, ''),\n",
              "  Text(-1.0574360772923024, -0.3030329065310699, ''),\n",
              "  Text(-1.0520028715583718, -0.32138755145920034, ''),\n",
              "  Text(-1.0479610588726793, -0.3343316004903704, ''),\n",
              "  Text(-1.044200545673254, -0.3458977022411088, ''),\n",
              "  Text(-1.0338510943164452, -0.37570189616328686, ''),\n",
              "  Text(-1.0131811210479875, -0.42832699652478506, ''),\n",
              "  Text(-0.9905356306558406, -0.47837136661932045, ''),\n",
              "  Text(-0.9682279876083877, -0.5220484307148255, ''),\n",
              "  Text(-0.9459264623310033, -0.5614473509261161, ''),\n",
              "  Text(-0.9282207273116841, -0.5902595034296085, ''),\n",
              "  Text(-0.9184303522468431, -0.6053806142186419, ''),\n",
              "  Text(-0.9043320417281051, -0.6262456054168181, ''),\n",
              "  Text(-0.8896699788478034, -0.6469059659154097, ''),\n",
              "  Text(-0.8754973311576633, -0.665961277504788, ''),\n",
              "  Text(-0.8650698699259445, -0.6794513375851944, ''),\n",
              "  Text(-0.8532788766181365, -0.6942010938606271, ''),\n",
              "  Text(-0.8412818507256848, -0.7086923504875489, ''),\n",
              "  Text(-0.8226193381718468, -0.7302721578053711, ''),\n",
              "  Text(-0.7949821220984633, -0.7602653652138996, ''),\n",
              "  Text(-0.7657882011099525, -0.7896634922805936, ''),\n",
              "  Text(-0.7386393478960956, -0.8151146629399025, ''),\n",
              "  Text(-0.7303292865259325, -0.8225686191695636, ''),\n",
              "  Text(-0.7225644190482736, -0.8293977696650933, ''),\n",
              "  Text(-0.6955720502570921, -0.8521616765034353, ''),\n",
              "  Text(-0.6697847877471043, -0.8725756919044712, ''),\n",
              "  Text(-0.6641501396746442, -0.8768720499423794, ''),\n",
              "  Text(-0.6389779893775024, -0.8953809966104288, ''),\n",
              "  Text(-0.6125389741019525, -0.913671716321638, ''),\n",
              "  Text(-0.5900859705118691, -0.9283310548533135, ''),\n",
              "  Text(-0.5644103940954791, -0.9441614835593466, ''),\n",
              "  Text(-0.5557937779722298, -0.9492593304083747, ''),\n",
              "  Text(-0.5482826642635766, -0.953617386622137, ''),\n",
              "  Text(-0.5175176031065258, -0.9706572672549652, ''),\n",
              "  Text(-0.48438864290142847, -0.9876070284420381, ''),\n",
              "  Text(-0.4602035421101027, -0.9991059502521819, ''),\n",
              "  Text(-0.43246336864237633, -1.0114224808567824, ''),\n",
              "  Text(-0.40343210542073465, -1.0233486875526805, ''),\n",
              "  Text(-0.35777156900327367, -1.040192051696674, ''),\n",
              "  Text(-0.3214381257858209, -1.051987419740036, ''),\n",
              "  Text(-0.2988000810252376, -1.0586399348122626, ''),\n",
              "  Text(-0.2719617202830422, -1.0658502815596047, ''),\n",
              "  Text(-0.22843657482486307, -1.0760189270093183, ''),\n",
              "  Text(-0.17260307311653567, -1.0863738671151513, ''),\n",
              "  Text(-0.13989601181903755, -1.0910678740926836, ''),\n",
              "  Text(-0.13025162667568627, -1.0922611930066626, ''),\n",
              "  Text(-0.09221229465920808, -1.0961281369957088, ''),\n",
              "  Text(-0.04510478216367808, -1.0990748648868134, ''),\n",
              "  Text(-0.007679126620070816, -1.0999731955890348, ''),\n",
              "  Text(0.03566348665405127, -1.099421718777502, ''),\n",
              "  Text(0.07780206425062251, -1.0972451133627081, ''),\n",
              "  Text(0.10027756874620877, -1.0954197411067366, ''),\n",
              "  Text(0.11173975745429136, -1.0943099316939677, ''),\n",
              "  Text(0.14018739211873818, -1.0910304739515515, ''),\n",
              "  Text(0.15898849038313176, -1.0884496588844579, ''),\n",
              "  Text(0.17564298081772048, -1.0858865241310742, ''),\n",
              "  Text(0.2108315185598349, -1.0796064425436493, ''),\n",
              "  Text(0.2405257666819745, -1.0733812722243894, ''),\n",
              "  Text(0.27184785830246855, -1.0658793280368848, ''),\n",
              "  Text(0.31171497390541325, -1.0549093681654116, ''),\n",
              "  Text(0.34320267930754417, -1.0450894320181998, ''),\n",
              "  Text(0.38221599510706405, -1.0314605824190846, ''),\n",
              "  Text(0.40988485153416115, -1.0207812735756956, ''),\n",
              "  Text(0.4342670532289723, -1.010649358818292, ''),\n",
              "  Text(0.47939223279784776, -0.9900419623092217, ''),\n",
              "  Text(0.5315336639963172, -0.9630534585570265, ''),\n",
              "  Text(0.5655799473028765, -0.9434613522603221, ''),\n",
              "  Text(0.587048221925284, -0.9302550108085216, ''),\n",
              "  Text(0.605228533645366, -0.9185305776409843, ''),\n",
              "  Text(0.6235523567902223, -0.9061911820037535, ''),\n",
              "  Text(0.6608293746017156, -0.8793773579433948, ''),\n",
              "  Text(0.7067717697497335, -0.8428959992103591, ''),\n",
              "  Text(0.7529341383245887, -0.8019290388465861, ''),\n",
              "  Text(0.7880296676807562, -0.7674693758417708, ''),\n",
              "  Text(0.8237573046882121, -0.7289882735495903, ''),\n",
              "  Text(0.8572692224754487, -0.6892673503049015, ''),\n",
              "  Text(0.880480917638536, -0.6593582893043824, ''),\n",
              "  Text(0.9061878492603832, -0.6235572001451359, ''),\n",
              "  Text(0.924093427068416, -0.5967003754389218, ''),\n",
              "  Text(0.9453802209891249, -0.5623666399801409, ''),\n",
              "  Text(0.9763062180762673, -0.5067801974679123, ''),\n",
              "  Text(0.9999620874912006, -0.4583402923377351, ''),\n",
              "  Text(1.0161488430492092, -0.4212380903595419, ''),\n",
              "  Text(1.0303888424380179, -0.3850958755676849, ''),\n",
              "  Text(1.0486694275163582, -0.3321030439374414, ''),\n",
              "  Text(1.058921953974679, -0.29779908561049645, ''),\n",
              "  Text(1.060752974528428, -0.2912097646527195, ''),\n",
              "  Text(1.0642503499315021, -0.27815677714317016, ''),\n",
              "  Text(1.0669526454111027, -0.2676042833182046, ''),\n",
              "  Text(1.0720062264400108, -0.24658193460561686, ''),\n",
              "  Text(1.0797290083866635, -0.21020292207377234, ''),\n",
              "  Text(1.0837305362658676, -0.1884890574142045, ''),\n",
              "  Text(1.0862879958106402, -0.173142687277583, ''),\n",
              "  Text(1.0908476019601947, -0.14160335200020122, ''),\n",
              "  Text(1.0964920245486265, -0.08777949704375258, ''),\n",
              "  Text(1.099661900640628, -0.027270942034362002, '')])"
            ]
          },
          "metadata": {},
          "execution_count": 16
        },
        {
          "output_type": "display_data",
          "data": {
            "text/plain": [
              "<Figure size 640x480 with 1 Axes>"
            ],
            "image/png": "[encoded data removed]"
          },
          "metadata": {}
        }
      ]
    },
    {
      "cell_type": "code",
      "source": [
        "Mark['Sales'].sum()\n"
      ],
      "metadata": {
        "colab": {
          "base_uri": "https://localhost:8080/"
        },
        "id": "tZM_-tlBuNQ4",
        "outputId": "80cc7b83-90a1-41af-a861-ad803fdb3a05"
      },
      "execution_count": null,
      "outputs": [
        {
          "output_type": "execute_result",
          "data": {
            "text/plain": [
              "2804.5"
            ]
          },
          "metadata": {},
          "execution_count": 17
        }
      ]
    },
    {
      "cell_type": "code",
      "source": [
        "Mark['TV'].count()"
      ],
      "metadata": {
        "colab": {
          "base_uri": "https://localhost:8080/"
        },
        "id": "ZKK2D8q3ugE_",
        "outputId": "d6523f48-091d-4553-e31a-e523b700a47f"
      },
      "execution_count": null,
      "outputs": [
        {
          "output_type": "execute_result",
          "data": {
            "text/plain": [
              "200"
            ]
          },
          "metadata": {},
          "execution_count": 18
        }
      ]
    },
    {
      "cell_type": "code",
      "source": [
        "Mark['Sales'].sum()/Mark['TV'].count()"
      ],
      "metadata": {
        "colab": {
          "base_uri": "https://localhost:8080/"
        },
        "id": "sUZ8bATbumfs",
        "outputId": "8611faeb-4fa1-44cf-a66e-63cb56437677"
      },
      "execution_count": null,
      "outputs": [
        {
          "output_type": "execute_result",
          "data": {
            "text/plain": [
              "14.0225"
            ]
          },
          "metadata": {},
          "execution_count": 19
        }
      ]
    },
    {
      "cell_type": "code",
      "source": [
        "x=Mark['Sales']\n",
        "x"
      ],
      "metadata": {
        "colab": {
          "base_uri": "https://localhost:8080/"
        },
        "id": "1kz-wpmqusRg",
        "outputId": "20824250-7127-4c64-973e-d8efdd84deb4"
      },
      "execution_count": null,
      "outputs": [
        {
          "output_type": "execute_result",
          "data": {
            "text/plain": [
              "0      22.1\n",
              "1      10.4\n",
              "2       9.3\n",
              "3      18.5\n",
              "4      12.9\n",
              "       ... \n",
              "195     7.6\n",
              "196     9.7\n",
              "197    12.8\n",
              "198    25.5\n",
              "199    13.4\n",
              "Name: Sales, Length: 200, dtype: float64"
            ]
          },
          "metadata": {},
          "execution_count": 20
        }
      ]
    },
    {
      "cell_type": "code",
      "source": [
        "y=Mark['TV']\n",
        "y"
      ],
      "metadata": {
        "colab": {
          "base_uri": "https://localhost:8080/"
        },
        "id": "vARdOv_OvLLW",
        "outputId": "67cecbc9-ad55-4420-b0dd-2adb6f221492"
      },
      "execution_count": null,
      "outputs": [
        {
          "output_type": "execute_result",
          "data": {
            "text/plain": [
              "0      230.1\n",
              "1       44.5\n",
              "2       17.2\n",
              "3      151.5\n",
              "4      180.8\n",
              "       ...  \n",
              "195     38.2\n",
              "196     94.2\n",
              "197    177.0\n",
              "198    283.6\n",
              "199    232.1\n",
              "Name: TV, Length: 200, dtype: float64"
            ]
          },
          "metadata": {},
          "execution_count": 21
        }
      ]
    },
    {
      "cell_type": "code",
      "source": [
        "print(x.shape)"
      ],
      "metadata": {
        "colab": {
          "base_uri": "https://localhost:8080/"
        },
        "id": "IgvBw8F_vQeI",
        "outputId": "fab4b75e-f4f5-4776-9054-4da3b50a0b28"
      },
      "execution_count": null,
      "outputs": [
        {
          "output_type": "stream",
          "name": "stdout",
          "text": [
            "(200,)\n"
          ]
        }
      ]
    },
    {
      "cell_type": "code",
      "source": [
        "Marketing=x.values.reshape(x.values.size,1)\n",
        "Marketing.shape\n"
      ],
      "metadata": {
        "colab": {
          "base_uri": "https://localhost:8080/"
        },
        "id": "GUrPZ4QuvVgl",
        "outputId": "672e79d3-f5cc-4a53-9e12-3ad5374f53fe"
      },
      "execution_count": null,
      "outputs": [
        {
          "output_type": "execute_result",
          "data": {
            "text/plain": [
              "(200, 1)"
            ]
          },
          "metadata": {},
          "execution_count": 24
        }
      ]
    },
    {
      "cell_type": "code",
      "source": [
        "from sklearn.model_selection import train_test_split\n",
        "x_train,x_test,y_train,y_test=train_test_split(Marketing,y,test_size=0.40,random_state=0)"
      ],
      "metadata": {
        "id": "uAX8B1vTv2Nw"
      },
      "execution_count": null,
      "outputs": []
    },
    {
      "cell_type": "code",
      "source": [
        "print(x_train.shape)"
      ],
      "metadata": {
        "colab": {
          "base_uri": "https://localhost:8080/"
        },
        "id": "o_fIj8GQwt5B",
        "outputId": "e8c744cd-278c-4fcf-9223-1872a8f29c36"
      },
      "execution_count": null,
      "outputs": [
        {
          "output_type": "stream",
          "name": "stdout",
          "text": [
            "(120, 1)\n"
          ]
        }
      ]
    },
    {
      "cell_type": "code",
      "source": [
        "print(x_test.shape)"
      ],
      "metadata": {
        "colab": {
          "base_uri": "https://localhost:8080/"
        },
        "id": "AeSLrYnqxhZk",
        "outputId": "a3ea1082-e887-4605-f757-3c7ef03aeabb"
      },
      "execution_count": null,
      "outputs": [
        {
          "output_type": "stream",
          "name": "stdout",
          "text": [
            "(80, 1)\n"
          ]
        }
      ]
    },
    {
      "cell_type": "code",
      "source": [
        "print(y_train.shape)"
      ],
      "metadata": {
        "colab": {
          "base_uri": "https://localhost:8080/"
        },
        "id": "n_1mTnnRxlaP",
        "outputId": "df868d23-06fe-40f6-e007-ee75d592c0cc"
      },
      "execution_count": null,
      "outputs": [
        {
          "output_type": "stream",
          "name": "stdout",
          "text": [
            "(120,)\n"
          ]
        }
      ]
    },
    {
      "cell_type": "code",
      "source": [
        "print(y_test.shape)"
      ],
      "metadata": {
        "colab": {
          "base_uri": "https://localhost:8080/"
        },
        "id": "03_dSeCmxqkR",
        "outputId": "796bedab-b872-4224-9451-df59efabde4a"
      },
      "execution_count": null,
      "outputs": [
        {
          "output_type": "stream",
          "name": "stdout",
          "text": [
            "(80,)\n"
          ]
        }
      ]
    },
    {
      "cell_type": "code",
      "source": [
        "from sklearn.linear_model import LinearRegression"
      ],
      "metadata": {
        "id": "M0CL6du8xujv"
      },
      "execution_count": null,
      "outputs": []
    },
    {
      "cell_type": "code",
      "source": [
        "Mark=LinearRegression()\n",
        "Mark.fit(x_train,y_train)"
      ],
      "metadata": {
        "colab": {
          "base_uri": "https://localhost:8080/",
          "height": 74
        },
        "id": "iaoztRUgx_Wv",
        "outputId": "221da663-f01f-495c-cb99-23dd6eb7e532"
      },
      "execution_count": null,
      "outputs": [
        {
          "output_type": "execute_result",
          "data": {
            "text/plain": [
              "LinearRegression()"
            ],
            "text/html": [
              "<style>#sk-container-id-1 {color: black;background-color: white;}#sk-container-id-1 pre{padding: 0;}#sk-container-id-1 div.sk-toggleable {background-color: white;}#sk-container-id-1 label.sk-toggleable__label {cursor: pointer;display: block;width: 100%;margin-bottom: 0;padding: 0.3em;box-sizing: border-box;text-align: center;}#sk-container-id-1 label.sk-toggleable__label-arrow:before {content: \"▸\";float: left;margin-right: 0.25em;color: #696969;}#sk-container-id-1 label.sk-toggleable__label-arrow:hover:before {color: black;}#sk-container-id-1 div.sk-estimator:hover label.sk-toggleable__label-arrow:before {color: black;}#sk-container-id-1 div.sk-toggleable__content {max-height: 0;max-width: 0;overflow: hidden;text-align: left;background-color: #f0f8ff;}#sk-container-id-1 div.sk-toggleable__content pre {margin: 0.2em;color: black;border-radius: 0.25em;background-color: #f0f8ff;}#sk-container-id-1 input.sk-toggleable__control:checked~div.sk-toggleable__content {max-height: 200px;max-width: 100%;overflow: auto;}#sk-container-id-1 input.sk-toggleable__control:checked~label.sk-toggleable__label-arrow:before {content: \"▾\";}#sk-container-id-1 div.sk-estimator input.sk-toggleable__control:checked~label.sk-toggleable__label {background-color: #d4ebff;}#sk-container-id-1 div.sk-label input.sk-toggleable__control:checked~label.sk-toggleable__label {background-color: #d4ebff;}#sk-container-id-1 input.sk-hidden--visually {border: 0;clip: rect(1px 1px 1px 1px);clip: rect(1px, 1px, 1px, 1px);height: 1px;margin: -1px;overflow: hidden;padding: 0;position: absolute;width: 1px;}#sk-container-id-1 div.sk-estimator {font-family: monospace;background-color: #f0f8ff;border: 1px dotted black;border-radius: 0.25em;box-sizing: border-box;margin-bottom: 0.5em;}#sk-container-id-1 div.sk-estimator:hover {background-color: #d4ebff;}#sk-container-id-1 div.sk-parallel-item::after {content: \"\";width: 100%;border-bottom: 1px solid gray;flex-grow: 1;}#sk-container-id-1 div.sk-label:hover label.sk-toggleable__label {background-color: #d4ebff;}#sk-container-id-1 div.sk-serial::before {content: \"\";position: absolute;border-left: 1px solid gray;box-sizing: border-box;top: 0;bottom: 0;left: 50%;z-index: 0;}#sk-container-id-1 div.sk-serial {display: flex;flex-direction: column;align-items: center;background-color: white;padding-right: 0.2em;padding-left: 0.2em;position: relative;}#sk-container-id-1 div.sk-item {position: relative;z-index: 1;}#sk-container-id-1 div.sk-parallel {display: flex;align-items: stretch;justify-content: center;background-color: white;position: relative;}#sk-container-id-1 div.sk-item::before, #sk-container-id-1 div.sk-parallel-item::before {content: \"\";position: absolute;border-left: 1px solid gray;box-sizing: border-box;top: 0;bottom: 0;left: 50%;z-index: -1;}#sk-container-id-1 div.sk-parallel-item {display: flex;flex-direction: column;z-index: 1;position: relative;background-color: white;}#sk-container-id-1 div.sk-parallel-item:first-child::after {align-self: flex-end;width: 50%;}#sk-container-id-1 div.sk-parallel-item:last-child::after {align-self: flex-start;width: 50%;}#sk-container-id-1 div.sk-parallel-item:only-child::after {width: 0;}#sk-container-id-1 div.sk-dashed-wrapped {border: 1px dashed gray;margin: 0 0.4em 0.5em 0.4em;box-sizing: border-box;padding-bottom: 0.4em;background-color: white;}#sk-container-id-1 div.sk-label label {font-family: monospace;font-weight: bold;display: inline-block;line-height: 1.2em;}#sk-container-id-1 div.sk-label-container {text-align: center;}#sk-container-id-1 div.sk-container {/* jupyter's `normalize.less` sets `[hidden] { display: none; }` but bootstrap.min.css set `[hidden] { display: none !important; }` so we also need the `!important` here to be able to override the default hidden behavior on the sphinx rendered scikit-learn.org. See: https://github.com/scikit-learn/scikit-learn/issues/21755 */display: inline-block !important;position: relative;}#sk-container-id-1 div.sk-text-repr-fallback {display: none;}</style><div id=\"sk-container-id-1\" class=\"sk-top-container\"><div class=\"sk-text-repr-fallback\"><pre>LinearRegression()</pre><b>In a Jupyter environment, please rerun this cell to show the HTML representation or trust the notebook. <br />On GitHub, the HTML representation is unable to render, please try loading this page with nbviewer.org.</b></div><div class=\"sk-container\" hidden><div class=\"sk-item\"><div class=\"sk-estimator sk-toggleable\"><input class=\"sk-toggleable__control sk-hidden--visually\" id=\"sk-estimator-id-1\" type=\"checkbox\" checked><label for=\"sk-estimator-id-1\" class=\"sk-toggleable__label sk-toggleable__label-arrow\">LinearRegression</label><div class=\"sk-toggleable__content\"><pre>LinearRegression()</pre></div></div></div></div></div>"
            ]
          },
          "metadata": {},
          "execution_count": 33
        }
      ]
    },
    {
      "cell_type": "code",
      "source": [
        "print(Mark.intercept_)\n",
        "print(Mark.coef_)"
      ],
      "metadata": {
        "colab": {
          "base_uri": "https://localhost:8080/"
        },
        "id": "GwiqmkTTyWCT",
        "outputId": "9e612ebd-2c53-4ea0-9638-b23c3e020066"
      },
      "execution_count": null,
      "outputs": [
        {
          "output_type": "stream",
          "name": "stdout",
          "text": [
            "-22.9332543219044\n",
            "[12.17919474]\n"
          ]
        }
      ]
    },
    {
      "cell_type": "code",
      "source": [
        "y_pred=Mark.predict(x_test)"
      ],
      "metadata": {
        "id": "xtOaDyMbyzlc"
      },
      "execution_count": null,
      "outputs": []
    },
    {
      "cell_type": "code",
      "source": [
        "from sklearn.metrics import r2_score"
      ],
      "metadata": {
        "id": "WyhlKp8-zK1c"
      },
      "execution_count": null,
      "outputs": []
    },
    {
      "cell_type": "code",
      "source": [
        "rsq=r2_score(y_test,y_pred)\n",
        "rsq"
      ],
      "metadata": {
        "colab": {
          "base_uri": "https://localhost:8080/"
        },
        "id": "dGCMzaVpzW52",
        "outputId": "33267e7f-f71b-418d-e994-4233b68de517"
      },
      "execution_count": null,
      "outputs": [
        {
          "output_type": "execute_result",
          "data": {
            "text/plain": [
              "0.6809298186650645"
            ]
          },
          "metadata": {},
          "execution_count": 37
        }
      ]
    },
    {
      "cell_type": "code",
      "source": [
        "Mark.predict([[372]])"
      ],
      "metadata": {
        "colab": {
          "base_uri": "https://localhost:8080/"
        },
        "id": "ejjNoM2Rzsji",
        "outputId": "2e1c6b13-6983-4002-d99d-bfb33058a633"
      },
      "execution_count": null,
      "outputs": [
        {
          "output_type": "execute_result",
          "data": {
            "text/plain": [
              "array([4507.72718888])"
            ]
          },
          "metadata": {},
          "execution_count": 38
        }
      ]
    },
    {
      "cell_type": "code",
      "source": [
        "Mark.predict([[37]])"
      ],
      "metadata": {
        "colab": {
          "base_uri": "https://localhost:8080/"
        },
        "id": "w1OJiDhLz2By",
        "outputId": "54e659e4-7e53-47db-ca83-8924a97351db"
      },
      "execution_count": null,
      "outputs": [
        {
          "output_type": "execute_result",
          "data": {
            "text/plain": [
              "array([427.69695105])"
            ]
          },
          "metadata": {},
          "execution_count": 39
        }
      ]
    },
    {
      "cell_type": "code",
      "source": [
        "Mark.predict([[698]])"
      ],
      "metadata": {
        "colab": {
          "base_uri": "https://localhost:8080/"
        },
        "id": "KdbIZeF_z65u",
        "outputId": "b2ac7eee-6ea1-444d-ccbf-2347536c3dc1"
      },
      "execution_count": null,
      "outputs": [
        {
          "output_type": "execute_result",
          "data": {
            "text/plain": [
              "array([8478.14467405])"
            ]
          },
          "metadata": {},
          "execution_count": 40
        }
      ]
    },
    {
      "cell_type": "code",
      "source": [
        "plt.scatter(x_train,y_train,color='Green')\n",
        "plt.plot(x_test,y_pred,color='black')\n",
        "plt.show"
      ],
      "metadata": {
        "colab": {
          "base_uri": "https://localhost:8080/",
          "height": 447
        },
        "id": "L5L9GB7h0EWM",
        "outputId": "4b86c712-5e53-49b9-9969-465ec7fbae03"
      },
      "execution_count": null,
      "outputs": [
        {
          "output_type": "execute_result",
          "data": {
            "text/plain": [
              "<function matplotlib.pyplot.show(close=None, block=None)>"
            ]
          },
          "metadata": {},
          "execution_count": 42
        },
        {
          "output_type": "display_data",
          "data": {
            "text/plain": [
              "<Figure size 640x480 with 1 Axes>"
            ],
            "image/png": "[encoded data removed]"
          },
          "metadata": {}
        }
      ]
    }
  ]
}